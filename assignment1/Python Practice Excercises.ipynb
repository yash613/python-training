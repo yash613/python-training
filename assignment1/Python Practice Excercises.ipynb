{
 "cells": [
  {
   "cell_type": "markdown",
   "metadata": {},
   "source": [
    "<p>Write a Python program that accepts an integer (n) and computes the value of n+nn+nnn.</p>\n",
    "<p> Go to the editor </p>\n",
    "<p>Sample value of n is 5 </p>\n",
    "Expected Result : 615"
   ]
  },
  {
   "cell_type": "code",
   "execution_count": 4,
   "metadata": {},
   "outputs": [
    {
     "name": "stdout",
     "output_type": "stream",
     "text": [
      "615\n"
     ]
    }
   ],
   "source": [
    "n=int(input(\"Enter a number n: \"))\n",
    "temp=str(n)\n",
    "t1=temp+temp\n",
    "t2=temp+temp+temp\n",
    "comp=n+int(t1)+int(t2)\n",
    "print(comp)"
   ]
  },
  {
   "cell_type": "markdown",
   "metadata": {},
   "source": [
    "Create a program that asks the user to enter their name and their age.\n",
    "Print out a message addressed to them that tells them the year that they will turn 100 years old.\n",
    "\n"
   ]
  },
  {
   "cell_type": "code",
   "execution_count": 6,
   "metadata": {},
   "outputs": [
    {
     "name": "stdout",
     "output_type": "stream",
     "text": [
      "Hey yash in 2101  you will turn 100 year old\n"
     ]
    }
   ],
   "source": [
    "\n",
    "import datetime\n",
    "x = datetime.datetime.now()\n",
    "name=input('enter name')\n",
    "age=int(input('enter age'))\n",
    "print('Hey {} in {}  you will turn 100 year old'.format(name,x.year+(100-age)))\n",
    "\n"
   ]
  },
  {
   "cell_type": "markdown",
   "metadata": {},
   "source": [
    "Write a Python program to check a triangle is valid or not"
   ]
  },
  {
   "cell_type": "code",
   "execution_count": 7,
   "metadata": {},
   "outputs": [
    {
     "name": "stdout",
     "output_type": "stream",
     "text": [
      "Valid\n"
     ]
    }
   ],
   "source": [
    "def checkValidity(a, b, c): \n",
    "      \n",
    "\n",
    "    if (a + b <= c) or (a + c <= b) or (b + c <= a) :\n",
    "        return False\n",
    "    else:\n",
    "        return True        \n",
    "  \n",
    "\n",
    "a = int(input('enter first side'))\n",
    "b = int(input('enter second side'))\n",
    "c = int(input('enter third side'))\n",
    "if checkValidity(a, b, c):\n",
    "    print(\"Valid\") \n",
    "else:\n",
    "    print(\"Invalid\")"
   ]
  },
  {
   "cell_type": "markdown",
   "metadata": {},
   "source": [
    "Write a Python program to construct the following pattern, using a nested loop number.\n",
    "1                                                                                                             \n",
    "22                                                                                                            \n",
    "333                                                                                                           \n",
    "4444                                                                                                          \n",
    "55555                                                                                                         \n",
    "666666                                                                                                        \n",
    "7777777                                                                                                       \n",
    "88888888                                                                                                      \n",
    "999999999  "
   ]
  },
  {
   "cell_type": "code",
   "execution_count": 14,
   "metadata": {},
   "outputs": [
    {
     "name": "stdout",
     "output_type": "stream",
     "text": [
      "1\n",
      "22\n",
      "333\n",
      "4444\n",
      "55555\n",
      "666666\n",
      "7777777\n",
      "88888888\n",
      "999999999\n"
     ]
    }
   ],
   "source": [
    "for i in range(1,10):\n",
    "    print(str(i) * i)\n",
    "\n"
   ]
  },
  {
   "cell_type": "code",
   "execution_count": 9,
   "metadata": {},
   "outputs": [],
   "source": [
    "#  Write a Python program to construct the following pattern, using a nested for loop.\n",
    "# * \n",
    "# * * \n",
    "# * * * \n",
    "# * * * * \n",
    "# * * * * * \n",
    "# * * * * \n",
    "# * * * \n",
    "# * * \n",
    "# *"
   ]
  },
  {
   "cell_type": "code",
   "execution_count": 27,
   "metadata": {},
   "outputs": [
    {
     "name": "stdout",
     "output_type": "stream",
     "text": [
      " * \n",
      "\n",
      " *  * \n",
      "\n",
      " *  *  * \n",
      "\n",
      " *  *  *  * \n",
      "\n",
      " *  *  *  *  * \n",
      "\n",
      " *  *  *  * \n",
      "\n",
      " *  *  * \n",
      "\n",
      " *  * \n",
      "\n",
      " * \n",
      "\n",
      "\n",
      "\n",
      "\n",
      "\n"
     ]
    }
   ],
   "source": [
    "k=5\n",
    "\n",
    "for i in range(11):\n",
    "\n",
    "    if i<=4:\n",
    "\n",
    "        for j in range(i+1):\n",
    "\n",
    "            print(\" * \",end=\"\")\n",
    "\n",
    "        print(\"\\n\")\n",
    "\n",
    "    elif i>4:\n",
    "\n",
    "        for j in range(k-1):\n",
    "\n",
    "            print(\" * \",end=\"\")\n",
    "\n",
    "        print(\"\\n\")\n",
    "\n",
    "        k=k-1"
   ]
  },
  {
   "cell_type": "code",
   "execution_count": 10,
   "metadata": {},
   "outputs": [],
   "source": [
    "# Write a Python program that accepts a string and calculate the number of digits and letters\n",
    "# Sample Data : \"Python 3.2\"\n",
    "# Expected Output :\n",
    "# Letters 6 \n",
    "# Digits 2"
   ]
  },
  {
   "cell_type": "code",
   "execution_count": 29,
   "metadata": {},
   "outputs": [
    {
     "name": "stdout",
     "output_type": "stream",
     "text": [
      "Letters 6\n",
      "Digits 2\n"
     ]
    }
   ],
   "source": [
    "all_digits = ['0', '1', '2', '3', '4', '5', '6', '7', '8', '9']\n",
    "all_letters = ['a', 'b', 'c', 'd', 'e', 'f', 'g', 'h', 'i', 'j', 'k', 'l',\n",
    "               'm', 'n', 'o', 'p', 'q', 'r', 's', 't', 'u', 'v', 'w', 'x', 'y', 'z']\n",
    "def myFunction(string):\n",
    "    digits=0\n",
    "    letters=0\n",
    "    for i in string.lower():\n",
    "        if i in all_digits:\n",
    "            digits += 1\n",
    "        elif i in all_letters:\n",
    "            letters += 1\n",
    "    print('Letters {}'.format(letters))\n",
    "    print('Digits {}'.format(digits))\n",
    "\n",
    "myFunction(\"Python 3.2\")\n"
   ]
  },
  {
   "cell_type": "code",
   "execution_count": 11,
   "metadata": {},
   "outputs": [],
   "source": [
    "# Count the number of even and odd numbers from a series of numbers\n",
    "# Input \n",
    "# numbers = (1, 2, 3, 4, 5, 6, 7, 8, 9) # Declaring the tuple\n",
    "# Output\n",
    "# Number of even numbers : 4                                                                                    \n",
    "# Number of odd numbers : 5 "
   ]
  },
  {
   "cell_type": "code",
   "execution_count": 40,
   "metadata": {},
   "outputs": [
    {
     "name": "stdout",
     "output_type": "stream",
     "text": [
      "Number of even numbers : 4 \n",
      "Number of odd numbers : 5 \n"
     ]
    }
   ],
   "source": [
    "numbers = (1, 2, 3, 4, 5, 6, 7, 8, 9)\n",
    "countEven=0\n",
    "countOdd=0\n",
    "for i in numbers:\n",
    "    if(int(i)%2==0):\n",
    "        countEven += 1\n",
    "    else:\n",
    "        countOdd +=1\n",
    "print('Number of even numbers : {} '.format(countEven))\n",
    "print('Number of odd numbers : {} '.format(countOdd))\n"
   ]
  },
  {
   "cell_type": "code",
   "execution_count": 12,
   "metadata": {},
   "outputs": [],
   "source": [
    "# Write a Python program to get the Fibonacci series between 0 to 50"
   ]
  },
  {
   "cell_type": "code",
   "execution_count": 42,
   "metadata": {},
   "outputs": [
    {
     "name": "stdout",
     "output_type": "stream",
     "text": [
      "1\n",
      "1\n",
      "2\n",
      "3\n",
      "5\n",
      "8\n",
      "13\n",
      "21\n",
      "34\n"
     ]
    }
   ],
   "source": [
    "x,y=0,1\n",
    "\n",
    "while y<50:\n",
    "    print(y)\n",
    "    x,y = y,x+y\n",
    "\t\n"
   ]
  },
  {
   "cell_type": "code",
   "execution_count": 13,
   "metadata": {},
   "outputs": [],
   "source": [
    "#  Write a Python program to find those numbers which are divisible by 7 and multiple of 5, between 1500 and 2700\n"
   ]
  },
  {
   "cell_type": "code",
   "execution_count": 44,
   "metadata": {},
   "outputs": [
    {
     "name": "stdout",
     "output_type": "stream",
     "text": [
      "1505\n",
      "1540\n",
      "1575\n",
      "1610\n",
      "1645\n",
      "1680\n",
      "1715\n",
      "1750\n",
      "1785\n",
      "1820\n",
      "1855\n",
      "1890\n",
      "1925\n",
      "1960\n",
      "1995\n",
      "2030\n",
      "2065\n",
      "2100\n",
      "2135\n",
      "2170\n",
      "2205\n",
      "2240\n",
      "2275\n",
      "2310\n",
      "2345\n",
      "2380\n",
      "2415\n",
      "2450\n",
      "2485\n",
      "2520\n",
      "2555\n",
      "2590\n",
      "2625\n",
      "2660\n",
      "2695\n"
     ]
    }
   ],
   "source": [
    "for i in range(1500,2700):\n",
    "    if i%7==0 and i%5==0:\n",
    "        print(i)\n"
   ]
  },
  {
   "cell_type": "code",
   "execution_count": 14,
   "metadata": {},
   "outputs": [],
   "source": [
    "# Generate a random number between 1 and 9 (including 1 and 9).\n",
    "# Ask the user to guess the number, then tell them whether they guessed too low, too high, or exactly right. "
   ]
  },
  {
   "cell_type": "code",
   "execution_count": 46,
   "metadata": {},
   "outputs": [
    {
     "name": "stdout",
     "output_type": "stream",
     "text": [
      "Your guess is too high.\n"
     ]
    }
   ],
   "source": [
    "import random\n",
    "number=random.randint(1,9)\n",
    "\n",
    "guessNumber= int(input('guess number'))\n",
    "if(guessNumber<number):\n",
    "        print('Your guess is too low.')\n",
    "elif(guessNumber>number):\n",
    "        print('Your guess is too high.')\n",
    "else:\n",
    "        print('guess is exactly right')\n"
   ]
  },
  {
   "cell_type": "code",
   "execution_count": 15,
   "metadata": {},
   "outputs": [],
   "source": [
    "# Write a Python program to check the validity of a password (input from users).\n",
    "# Validation :\n",
    "# At least 1 letter between [a-z] and 1 letter between [A-Z].\n",
    "# At least 1 number between [0-9].\n",
    "# At least 1 character from [$#@].\n",
    "# Minimum length 6 characters.\n",
    "# Maximum length 16 characters.\n",
    "# Input\n",
    "# W3r@100a\n",
    "# Output\n",
    "# Valid password"
   ]
  },
  {
   "cell_type": "code",
   "execution_count": null,
   "metadata": {},
   "outputs": [],
   "source": []
  },
  {
   "cell_type": "code",
   "execution_count": 16,
   "metadata": {},
   "outputs": [],
   "source": [
    "# Write a Python program to check a triangle is equilateral, isosceles or scalene.\n",
    "# Note :\n",
    "# An equilateral triangle is a triangle in which all three sides are equal.\n",
    "# A scalene triangle is a triangle that has three unequal sides.\n",
    "# An isosceles triangle is a triangle with (at least) two equal sides."
   ]
  },
  {
   "cell_type": "code",
   "execution_count": 48,
   "metadata": {},
   "outputs": [
    {
     "name": "stdout",
     "output_type": "stream",
     "text": [
      "Equilateral Triangle\n"
     ]
    }
   ],
   "source": [
    "side1=int(input('side1'))\n",
    "side2=int(input('side2'))\n",
    "side3=int(input('side3'))\n",
    "if side1==side2==side3:\n",
    "    print('Equilateral Triangle')\n",
    "elif side1 != side2 and side1 != side3 and side2 != side3:\n",
    "    print('Scalene Triangle')\n",
    "elif side1==side2 or side1==side3 or side2==side3:\n",
    "    print(\"Isoceles Traingle\")"
   ]
  },
  {
   "cell_type": "code",
   "execution_count": 17,
   "metadata": {},
   "outputs": [],
   "source": [
    "# Write a Python program to check whether an alphabet is a vowel or consonant\n"
   ]
  },
  {
   "cell_type": "code",
   "execution_count": 53,
   "metadata": {},
   "outputs": [
    {
     "name": "stdout",
     "output_type": "stream",
     "text": [
      "vowel\n"
     ]
    }
   ],
   "source": [
    "vowel=['a','e','i','o','u']\n",
    "inpt=input('type alphabet')\n",
    "if inpt in vowel:\n",
    "    print('vowel')\n",
    "else:\n",
    "    print('consonant')\n"
   ]
  },
  {
   "cell_type": "code",
   "execution_count": 18,
   "metadata": {},
   "outputs": [],
   "source": [
    "# Write a Python program to check whether a list contains a sublist.\n",
    "# Input\n",
    "# a = [2,4,3,5,7]\n",
    "# b = [4,3]\n",
    "# c = [3,7]\n",
    "# print(is_Sublist(a, b))\n",
    "# print(is_Sublist(a, c))\n",
    "# Output"
   ]
  },
  {
   "cell_type": "code",
   "execution_count": 34,
   "metadata": {},
   "outputs": [
    {
     "name": "stdout",
     "output_type": "stream",
     "text": [
      "sublist \n",
      "not a sublist\n"
     ]
    }
   ],
   "source": [
    "\n",
    "def is_Sublist(l1,l2):\n",
    " if (set(l2).issubset(set(l1))):\n",
    "    return \"sublist \"\n",
    " else:\n",
    "     return \"not a sublist\"\n",
    "\n",
    "a = [2,4,3,5,7]\n",
    "b = [4,3]\n",
    "c= [8,9]\n",
    "print(is_Sublist(a, b))\n",
    "print(is_Sublist(a, c))\n",
    "\n"
   ]
  },
  {
   "cell_type": "code",
   "execution_count": 19,
   "metadata": {},
   "outputs": [],
   "source": [
    "# Write a Python program to find common items from two lists.\n",
    "# input\n",
    "# color1 = \"Red\", \"Green\", \"Orange\", \"White\"\n",
    "# color2 = \"Black\", \"Green\", \"White\", \"Pink\"\n",
    "# output\n",
    "# {'Green', 'White'}"
   ]
  },
  {
   "cell_type": "code",
   "execution_count": 61,
   "metadata": {},
   "outputs": [
    {
     "name": "stdout",
     "output_type": "stream",
     "text": [
      "['Green', 'White']\n"
     ]
    }
   ],
   "source": [
    "color1 =[\"Red\", \"Green\", \"Orange\", \"White\"]\n",
    "color2 =[\"Black\", \"Green\", \"White\", \"Pink\"]\n",
    "out=[]\n",
    "for i in color1:\n",
    "    for j in color2:\n",
    "        if i==j:\n",
    "            out.append(i)\n",
    "print(out)"
   ]
  },
  {
   "cell_type": "code",
   "execution_count": 20,
   "metadata": {},
   "outputs": [],
   "source": [
    "# Write a Python program to get the difference between the two lists\n",
    "# Input \n",
    "# list1 = [1, 2, 3, 4]\n",
    "# list2 = [1, 2]\n",
    "# Output\n",
    "# [3,4]"
   ]
  },
  {
   "cell_type": "code",
   "execution_count": 62,
   "metadata": {},
   "outputs": [
    {
     "name": "stdout",
     "output_type": "stream",
     "text": [
      "[3, 4]\n"
     ]
    }
   ],
   "source": [
    "\n",
    "def Diff(li1, li2):\n",
    "\treturn list(set(li1) - set(li2)) + list(set(li2) - set(li1))\n",
    "\n",
    "list1 = [1, 2, 3, 4]\n",
    "list2 = [1, 2]\n",
    "\n",
    "print(Diff(list1, list2))\n"
   ]
  },
  {
   "cell_type": "code",
   "execution_count": 21,
   "metadata": {},
   "outputs": [],
   "source": [
    "# Write a Python program to get the largest number from a list.\n",
    "# max_num_in_list([1, 2, -8, 0])\n",
    "# return 2\n",
    "# Dont use max function "
   ]
  },
  {
   "cell_type": "code",
   "execution_count": 7,
   "metadata": {},
   "outputs": [
    {
     "name": "stdout",
     "output_type": "stream",
     "text": [
      "2\n"
     ]
    }
   ],
   "source": [
    "li=[1, 2, -8, 0]\n",
    "max=li[0]\n",
    "for i in li:\n",
    "    if i>max:\n",
    "        max=i\n",
    "print(max)"
   ]
  },
  {
   "cell_type": "code",
   "execution_count": 22,
   "metadata": {},
   "outputs": [],
   "source": [
    "# Write a Python program to get the frequency of the elements in a list.\n",
    "# input\n",
    "# my_list = [10,10,10,10,20,20,20,20,40,40,50,50,30]\n",
    "# outout\n",
    "# {10: 4, 20: 4, 40: 2, 50: 2, 30: 1}\n"
   ]
  },
  {
   "cell_type": "code",
   "execution_count": 4,
   "metadata": {},
   "outputs": [
    {
     "name": "stdout",
     "output_type": "stream",
     "text": [
      "{10: 4, 20: 4, 40: 2, 50: 2, 30: 1}\n"
     ]
    }
   ],
   "source": [
    "def CountFrequency(my_list):\n",
    " \n",
    "\n",
    "    freq = {}\n",
    "    for item in my_list:\n",
    "        if (item in freq):\n",
    "            freq[item] += 1\n",
    "        else:\n",
    "            freq[item] = 1\n",
    "\n",
    "    print(freq)\n",
    "\n",
    "CountFrequency([10,10,10,10,20,20,20,20,40,40,50,50,30])"
   ]
  },
  {
   "cell_type": "code",
   "execution_count": 3,
   "metadata": {},
   "outputs": [
    {
     "name": "stdout",
     "output_type": "stream",
     "text": [
      "Counter({10: 4, 20: 4, 40: 2, 50: 2, 30: 1})\n"
     ]
    }
   ],
   "source": [
    "import collections\n",
    "my_list = [10,10,10,10,20,20,20,20,40,40,50,50,30]\n",
    "print(collections.Counter(my_list))"
   ]
  },
  {
   "cell_type": "code",
   "execution_count": 23,
   "metadata": {},
   "outputs": [],
   "source": [
    "#  Write a Python program to generate all permutations of a list in Python\n",
    "# Input [1,2,3]\n",
    "# Output [(1, 2, 3), (1, 3, 2), (2, 1, 3), (2, 3, 1), (3, 1, 2), (3, 2, 1)]"
   ]
  },
  {
   "cell_type": "code",
   "execution_count": 8,
   "metadata": {},
   "outputs": [
    {
     "name": "stdout",
     "output_type": "stream",
     "text": [
      "[(1, 2, 3), (1, 3, 2), (2, 1, 3), (2, 3, 1), (3, 1, 2), (3, 2, 1)]\n"
     ]
    }
   ],
   "source": [
    "import itertools\n",
    "print(list(itertools.permutations([1,2,3])))"
   ]
  },
  {
   "cell_type": "code",
   "execution_count": 24,
   "metadata": {},
   "outputs": [],
   "source": [
    "# Write a Python program to remove duplicates from a list.\n",
    "# Input a = [10,20,30,20,10,50,60,40,80,50,40]\n",
    "# Output {40, 10, 80, 50, 20, 60, 30} "
   ]
  },
  {
   "cell_type": "code",
   "execution_count": 5,
   "metadata": {},
   "outputs": [
    {
     "name": "stdout",
     "output_type": "stream",
     "text": [
      "[10, 20, 30, 50, 60, 40, 80]\n"
     ]
    }
   ],
   "source": [
    "out=[]\n",
    "a = [10,20,30,20,10,50,60,40,80,50,40]\n",
    "for i in a :\n",
    "    if (i not in out):\n",
    "     out.append(i)\n",
    "\n",
    "print(out)\n",
    "\n"
   ]
  },
  {
   "cell_type": "code",
   "execution_count": 25,
   "metadata": {},
   "outputs": [],
   "source": [
    "# Write a Python program to find the second smallest number in a list.\n",
    "# input\n",
    "# second_smallest([1, 2, -8, -2, 0])\n",
    "# output\n",
    "# -2"
   ]
  },
  {
   "cell_type": "code",
   "execution_count": 11,
   "metadata": {},
   "outputs": [
    {
     "name": "stdout",
     "output_type": "stream",
     "text": [
      "[-8, -2, 0, 1, 2]\n",
      "-2\n"
     ]
    }
   ],
   "source": [
    "li=[1, 2, -8, -2, 0]\n",
    "li.sort()\n",
    "print(li[1])\n",
    "   \n",
    "        \n"
   ]
  },
  {
   "cell_type": "code",
   "execution_count": 26,
   "metadata": {},
   "outputs": [],
   "source": [
    "# Write a Python program to create a Caesar encryption\n",
    "# Note : In cryptography, a Caesar cipher, also known as Caesar's cipher, the shift cipher, Caesar's code or Caesar shift, is one of the simplest and most widely known encryption techniques.\n",
    "# It is a type of substitution cipher in which each letter in the plaintext is replaced by a letter some fixed number of positions down the alphabet.\n",
    "# For example, with a left shift of 3, D would be replaced by A, E would become B, and so on.\n",
    "# The method is named after Julius Caesar, who used it in his private correspondence.\n",
    "# plaintext:  defend the east wall of the castle\n",
    "# ciphertext: efgfoe uif fbtu xbmm pg uif dbtumf"
   ]
  },
  {
   "cell_type": "code",
   "execution_count": null,
   "metadata": {},
   "outputs": [],
   "source": []
  },
  {
   "cell_type": "code",
   "execution_count": 27,
   "metadata": {},
   "outputs": [],
   "source": [
    "# Write a Python program to change a given string to a new string where the first and last chars have been exchanged"
   ]
  },
  {
   "cell_type": "code",
   "execution_count": 21,
   "metadata": {},
   "outputs": [
    {
     "name": "stdout",
     "output_type": "stream",
     "text": [
      "oellh\n"
     ]
    }
   ],
   "source": [
    "string=\"hello\"\n",
    "newString=''\n",
    "newString=string[-1]+string[1:len(string)-1]+string[0]\n",
    "print(newString)"
   ]
  },
  {
   "cell_type": "code",
   "execution_count": 28,
   "metadata": {},
   "outputs": [],
   "source": [
    "# Write a Python program to count the number of characters (character frequency) in a string.\n",
    "# Expected Result : {'o': 3, 'g': 2, '.': 1, 'e': 1, 'l': 1, 'm': 1, 'c': 1}"
   ]
  },
  {
   "cell_type": "code",
   "execution_count": 26,
   "metadata": {},
   "outputs": [
    {
     "name": "stdout",
     "output_type": "stream",
     "text": [
      "{'h': 2, 'e': 1, 'l': 2, 'o': 1, ' ': 2, '.': 1, 'y': 1, 'a': 1, 's': 1}\n"
     ]
    }
   ],
   "source": [
    "string='hello . yash'\n",
    "freq={}\n",
    "for i in string:\n",
    "    if (i in freq):\n",
    "        freq[i]+=1\n",
    "    else:\n",
    "        freq[i]=1\n",
    "\n",
    "print(freq)"
   ]
  }
 ],
 "metadata": {
  "kernelspec": {
   "display_name": "Python 3",
   "language": "python",
   "name": "python3"
  },
  "language_info": {
   "codemirror_mode": {
    "name": "ipython",
    "version": 3
   },
   "file_extension": ".py",
   "mimetype": "text/x-python",
   "name": "python",
   "nbconvert_exporter": "python",
   "pygments_lexer": "ipython3",
   "version": "3.9.10"
  }
 },
 "nbformat": 4,
 "nbformat_minor": 4
}
